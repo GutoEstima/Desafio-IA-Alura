{
  "nbformat": 4,
  "nbformat_minor": 0,
  "metadata": {
    "colab": {
      "provenance": [],
      "authorship_tag": "ABX9TyMQNHT3utYBvhxd/Di4C0T0",
      "include_colab_link": true
    },
    "kernelspec": {
      "name": "python3",
      "display_name": "Python 3"
    },
    "language_info": {
      "name": "python"
    }
  },
  "cells": [
    {
      "cell_type": "markdown",
      "metadata": {
        "id": "view-in-github",
        "colab_type": "text"
      },
      "source": [
        "<a href=\"https://colab.research.google.com/github/GutoEstima/Desafio-IA-Alura/blob/main/Desafio_Imers%C3%A3o_IA_Alura.ipynb\" target=\"_parent\"><img src=\"https://colab.research.google.com/assets/colab-badge.svg\" alt=\"Open In Colab\"/></a>"
      ]
    },
    {
      "cell_type": "code",
      "execution_count": null,
      "metadata": {
        "id": "5fE-1aDKKodD"
      },
      "outputs": [],
      "source": [
        "\"\"\"\n",
        "At the command line, only need to run once to install the package via pip:\n",
        "\n",
        "$ pip install google-generativeai\n",
        "\"\"\"\n",
        "\n",
        "from pathlib import Path\n",
        "import hashlib\n",
        "import google.generativeai as genai\n",
        "\n",
        "from google.colab import userdata\n",
        "api_key = userdata.get('Secret_Key')\n",
        "genai.configure(api_key=api_key)\n",
        "\n",
        "# Set up the model\n",
        "generation_config = {\n",
        "  \"temperature\": 1,\n",
        "  \"top_p\": 0.95,\n",
        "  \"top_k\": 0,\n",
        "  \"max_output_tokens\": 8192,\n",
        "}\n",
        "\n",
        "safety_settings = [\n",
        "  {\n",
        "    \"category\": \"HARM_CATEGORY_HARASSMENT\",\n",
        "    \"threshold\": \"BLOCK_MEDIUM_AND_ABOVE\"\n",
        "  },\n",
        "  {\n",
        "    \"category\": \"HARM_CATEGORY_HATE_SPEECH\",\n",
        "    \"threshold\": \"BLOCK_MEDIUM_AND_ABOVE\"\n",
        "  },\n",
        "  {\n",
        "    \"category\": \"HARM_CATEGORY_SEXUALLY_EXPLICIT\",\n",
        "    \"threshold\": \"BLOCK_MEDIUM_AND_ABOVE\"\n",
        "  },\n",
        "  {\n",
        "    \"category\": \"HARM_CATEGORY_DANGEROUS_CONTENT\",\n",
        "    \"threshold\": \"BLOCK_MEDIUM_AND_ABOVE\"\n",
        "  },\n",
        "]\n",
        "\n",
        "model = genai.GenerativeModel(model_name=\"gemini-1.5-pro-latest\",\n",
        "                              generation_config=generation_config,\n",
        "                              safety_settings=safety_settings)\n",
        "\n",
        "def extract_pdf_pages(pathname: str) -> list[str]:\n",
        "  parts = [f\"--- START OF PDF ${pathname} ---\"]\n",
        "  # Add logic to read the PDF and return a list of pages here.\n",
        "  pages = []\n",
        "  for index, page in enumerate(pages):\n",
        "    parts.append(f\"--- PAGE {index} ---\")\n",
        "    parts.append(page)\n",
        "  return parts"
      ]
    },
    {
      "cell_type": "code",
      "source": [
        "chat = model.start_chat(history=[\n",
        "    {\"role\": \"user\",\n",
        "    \"parts\": extract_pdf_pages(\"/content/guia-de-manejo-e-tratamento-de-influenza-2023.pdf\")\n",
        "    },\n",
        "    {\"role\": \"user\",\n",
        "    \"parts\": [\"com base nesse guia de manejo e tratamento, eu lhe informarei a idade, peso e resumo dos sintomas de um paciente e você deve classificar esse paciente em sindrome gripal, sindrome respiratória aguda grave ou caso descartado, sugerir exames laboratoriais a serem solicitados e informar a posologia e tempo de tratamento do oseltamivir. Quando um caso for descartado, apenas informe que é um caso descartado para influenza. Para casos de sindrome gripal ou SRAG apenas informe a classificação, os exames laboratoriais e a posologia do oseltamivir\"]\n",
        "  },\n",
        "    {\"role\": \"user\",\n",
        "    \"parts\": ['Caso seja perguntado algo que não tenha relação com o PDF analizado, apenas responda com informe Idade, resumo dos sintomas e comorbidades']\n",
        "     },])\n",
        "\n",
        "prompt = input('Idade, resumo dos sintomas e comorbidades: ')\n",
        "\n",
        "while prompt != \"fim\":\n",
        "  response = chat.send_message(prompt)\n",
        "  print(\"Resposta:\", response.text, '\\n\\n')\n",
        "  prompt = input('Idade, resumo dos sintomas e comorbidades: ')"
      ],
      "metadata": {
        "id": "GpWo_ZlAPbN2"
      },
      "execution_count": null,
      "outputs": []
    }
  ]
}